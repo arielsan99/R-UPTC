{
 "cells": [
  {
   "cell_type": "markdown",
   "metadata": {},
   "source": [
    "# Crear nuestros propios metodos"
   ]
  },
  {
   "cell_type": "code",
   "execution_count": 4,
   "metadata": {},
   "outputs": [
    {
     "data": {
      "text/html": [
       "4"
      ],
      "text/latex": [
       "4"
      ],
      "text/markdown": [
       "4"
      ],
      "text/plain": [
       "[1] 4"
      ]
     },
     "metadata": {},
     "output_type": "display_data"
    },
    {
     "data": {
      "text/html": [
       "529"
      ],
      "text/latex": [
       "529"
      ],
      "text/markdown": [
       "529"
      ],
      "text/plain": [
       "[1] 529"
      ]
     },
     "metadata": {},
     "output_type": "display_data"
    }
   ],
   "source": [
    "# Vamos a crear una funcion para elevar a la 2\n",
    "elevar2 <- function(x) {\n",
    "  return(x^2)\n",
    "}\n",
    "\n",
    "elevar2(2)\n",
    "\n",
    "elevar2(23)"
   ]
  },
  {
   "cell_type": "code",
   "execution_count": 5,
   "metadata": {},
   "outputs": [
    {
     "data": {
      "text/html": [
       "5"
      ],
      "text/latex": [
       "5"
      ],
      "text/markdown": [
       "5"
      ],
      "text/plain": [
       "[1] 5"
      ]
     },
     "metadata": {},
     "output_type": "display_data"
    },
    {
     "data": {
      "text/html": [
       "5"
      ],
      "text/latex": [
       "5"
      ],
      "text/markdown": [
       "5"
      ],
      "text/plain": [
       "[1] 5"
      ]
     },
     "metadata": {},
     "output_type": "display_data"
    }
   ],
   "source": [
    "valorabs <- function(x) {\n",
    " # valor absoluto de x\n",
    " if(x<0){ \n",
    "    -x # multiplicamos por -1 la funcion\n",
    " }else{\n",
    "     x # dejamos el numero tal como llego por que es mayor o igual a 0\n",
    " }\n",
    "}\n",
    "\n",
    "valorabs(-5)\n",
    "\n",
    "valorabs(5)"
   ]
  },
  {
   "cell_type": "code",
   "execution_count": 7,
   "metadata": {},
   "outputs": [
    {
     "data": {
      "text/html": [
       "TRUE"
      ],
      "text/latex": [
       "TRUE"
      ],
      "text/markdown": [
       "TRUE"
      ],
      "text/plain": [
       "[1] TRUE"
      ]
     },
     "metadata": {},
     "output_type": "display_data"
    },
    {
     "data": {
      "text/html": [
       "FALSE"
      ],
      "text/latex": [
       "FALSE"
      ],
      "text/markdown": [
       "FALSE"
      ],
      "text/plain": [
       "[1] FALSE"
      ]
     },
     "metadata": {},
     "output_type": "display_data"
    }
   ],
   "source": [
    "mayor18 <- function(x) {\n",
    " # funcion para saber si una persona es mayor de edad\n",
    " if(x>=18){ \n",
    "    TRUE \n",
    " }else{\n",
    "     FALSE \n",
    " }\n",
    "}\n",
    "\n",
    "mayor18(20)\n",
    "\n",
    "mayor18(15)"
   ]
  },
  {
   "cell_type": "code",
   "execution_count": 3,
   "metadata": {},
   "outputs": [
    {
     "data": {
      "text/html": [
       "<span style=white-space:pre-wrap>'3 elevado a la  4 es 81'</span>"
      ],
      "text/latex": [
       "'3 elevado a la  4 es 81'"
      ],
      "text/markdown": [
       "<span style=white-space:pre-wrap>'3 elevado a la  4 es 81'</span>"
      ],
      "text/plain": [
       "[1] \"3 elevado a la  4 es 81\""
      ]
     },
     "metadata": {},
     "output_type": "display_data"
    }
   ],
   "source": [
    "potencia <- function(x, y) {\n",
    "    \n",
    " # función que calcula x elevado a y\n",
    " result <- x^y\n",
    "    \n",
    " # Cuando queremos que el resultado de una función contenga texto podemos utilizar las función paste()\n",
    " paste(x,\"elevado a la \", y, \"es\", result)\n",
    "}\n",
    "\n",
    "\n",
    "potencia(3,4)"
   ]
  },
  {
   "cell_type": "code",
   "execution_count": 13,
   "metadata": {},
   "outputs": [
    {
     "data": {
      "text/html": [
       "1846.1"
      ],
      "text/latex": [
       "1846.1"
      ],
      "text/markdown": [
       "1846.1"
      ],
      "text/plain": [
       "[1] 1846.1"
      ]
     },
     "metadata": {},
     "output_type": "display_data"
    },
    {
     "data": {
      "text/html": [
       "1580.3"
      ],
      "text/latex": [
       "1580.3"
      ],
      "text/markdown": [
       "1580.3"
      ],
      "text/plain": [
       "[1] 1580.3"
      ]
     },
     "metadata": {},
     "output_type": "display_data"
    }
   ],
   "source": [
    "# La Tasa de Metabolismo Basal (TMB), es la cantidad mínima de energía que necesita \n",
    "# tu cuerpo para funcionar. Nunca debemos ingerir menos cantidad de calorías de las que marca la tasa metabólica. \n",
    "# La TMB se calcula siguiendo las siguientes ecuaciones\n",
    "\n",
    "\n",
    "# Formula\n",
    "\n",
    "\n",
    "# TMB Mujer = 655 + (9,6 * P) + (1,8 * A) – (4,7 * E)\n",
    "# TMB Hombre = 66 + (13,7 * P) + (5 * A) – (6,8 * E)\n",
    "\n",
    "\n",
    "TMB<-function(Sexo,Altura,Peso,Edad){\n",
    "    if(Sexo==\"mujer\"){ \n",
    "        655 + (9.6 * Peso) + (1.8 * Altura) - (4.7 * Edad)\n",
    "    }else{ \n",
    "        66 + (13.7 * Peso) + (5 * Altura) - (6.8 * Edad) \n",
    "    }\n",
    "}\n",
    "\n",
    "TMB(\"hombre\",190,73,25)\n",
    "TMB(\"mujer\",190,73,25)\n"
   ]
  },
  {
   "cell_type": "code",
   "execution_count": 18,
   "metadata": {},
   "outputs": [
    {
     "data": {
      "text/html": [
       "12.8062484748657"
      ],
      "text/latex": [
       "12.8062484748657"
      ],
      "text/markdown": [
       "12.8062484748657"
      ],
      "text/plain": [
       "[1] 12.80625"
      ]
     },
     "metadata": {},
     "output_type": "display_data"
    }
   ],
   "source": [
    "# Formula para sacar la hipotenusa\n",
    "hipotenusa<-function(cateto1, cateto2){\n",
    "    sqrt(cateto1^2+cateto2^2)\n",
    "}\n",
    "\n",
    "hipotenusa(10,8)"
   ]
  },
  {
   "cell_type": "code",
   "execution_count": 19,
   "metadata": {},
   "outputs": [
    {
     "data": {
      "text/html": [
       "<dl>\n",
       "\t<dt>$cateto1</dt>\n",
       "\t\t<dd>10</dd>\n",
       "\t<dt>$cateto2</dt>\n",
       "\t\t<dd>8</dd>\n",
       "\t<dt>$hipotenusa</dt>\n",
       "\t\t<dd>12.8062484748657</dd>\n",
       "</dl>\n"
      ],
      "text/latex": [
       "\\begin{description}\n",
       "\\item[\\$cateto1] 10\n",
       "\\item[\\$cateto2] 8\n",
       "\\item[\\$hipotenusa] 12.8062484748657\n",
       "\\end{description}\n"
      ],
      "text/markdown": [
       "$cateto1\n",
       ":   10\n",
       "$cateto2\n",
       ":   8\n",
       "$hipotenusa\n",
       ":   12.8062484748657\n",
       "\n",
       "\n"
      ],
      "text/plain": [
       "$cateto1\n",
       "[1] 10\n",
       "\n",
       "$cateto2\n",
       "[1] 8\n",
       "\n",
       "$hipotenusa\n",
       "[1] 12.80625\n"
      ]
     },
     "metadata": {},
     "output_type": "display_data"
    }
   ],
   "source": [
    "# Complementando \n",
    "\n",
    "hipotenusa<-function(cateto1, cateto2){\n",
    "    h<-sqrt(cateto1^2+cateto2^2)\n",
    "    # Las listas permiten agrupar o contener cosas como dataframes, matrices y vectores en una misma variable.\n",
    "    list(cateto1=cateto1,cateto2=cateto2,hipotenusa=h)\n",
    "}\n",
    "\n",
    "hipotenusa(10,8)"
   ]
  },
  {
   "cell_type": "code",
   "execution_count": 20,
   "metadata": {},
   "outputs": [
    {
     "data": {
      "text/html": [
       "<dl>\n",
       "\t<dt>$cateto1</dt>\n",
       "\t\t<dd><ol class=list-inline>\n",
       "\t<li>10</li>\n",
       "\t<li>11</li>\n",
       "\t<li>12</li>\n",
       "</ol>\n",
       "</dd>\n",
       "\t<dt>$cateto2</dt>\n",
       "\t\t<dd><ol class=list-inline>\n",
       "\t<li>8</li>\n",
       "\t<li>9</li>\n",
       "\t<li>10</li>\n",
       "</ol>\n",
       "</dd>\n",
       "\t<dt>$hipotenusa</dt>\n",
       "\t\t<dd><ol class=list-inline>\n",
       "\t<li>12.8062484748657</li>\n",
       "\t<li>14.2126704035519</li>\n",
       "\t<li>15.6204993518133</li>\n",
       "</ol>\n",
       "</dd>\n",
       "</dl>\n"
      ],
      "text/latex": [
       "\\begin{description}\n",
       "\\item[\\$cateto1] \\begin{enumerate*}\n",
       "\\item 10\n",
       "\\item 11\n",
       "\\item 12\n",
       "\\end{enumerate*}\n",
       "\n",
       "\\item[\\$cateto2] \\begin{enumerate*}\n",
       "\\item 8\n",
       "\\item 9\n",
       "\\item 10\n",
       "\\end{enumerate*}\n",
       "\n",
       "\\item[\\$hipotenusa] \\begin{enumerate*}\n",
       "\\item 12.8062484748657\n",
       "\\item 14.2126704035519\n",
       "\\item 15.6204993518133\n",
       "\\end{enumerate*}\n",
       "\n",
       "\\end{description}\n"
      ],
      "text/markdown": [
       "$cateto1\n",
       ":   1. 10\n",
       "2. 11\n",
       "3. 12\n",
       "\n",
       "\n",
       "\n",
       "$cateto2\n",
       ":   1. 8\n",
       "2. 9\n",
       "3. 10\n",
       "\n",
       "\n",
       "\n",
       "$hipotenusa\n",
       ":   1. 12.8062484748657\n",
       "2. 14.2126704035519\n",
       "3. 15.6204993518133\n",
       "\n",
       "\n",
       "\n",
       "\n",
       "\n"
      ],
      "text/plain": [
       "$cateto1\n",
       "[1] 10 11 12\n",
       "\n",
       "$cateto2\n",
       "[1]  8  9 10\n",
       "\n",
       "$hipotenusa\n",
       "[1] 12.80625 14.21267 15.62050\n"
      ]
     },
     "metadata": {},
     "output_type": "display_data"
    }
   ],
   "source": [
    "#Podemos mandar un rango de valores para los catetos\n",
    "\n",
    "hipotenusa(10:12,8:10)"
   ]
  },
  {
   "cell_type": "code",
   "execution_count": 22,
   "metadata": {},
   "outputs": [
    {
     "data": {
      "text/html": [
       "<table>\n",
       "<thead><tr><th scope=col>cateto1</th><th scope=col>cateto2</th><th scope=col>hipotenusa</th></tr></thead>\n",
       "<tbody>\n",
       "\t<tr><td>10      </td><td> 8      </td><td>12.80625</td></tr>\n",
       "\t<tr><td>11      </td><td> 9      </td><td>14.21267</td></tr>\n",
       "\t<tr><td>12      </td><td>10      </td><td>15.62050</td></tr>\n",
       "</tbody>\n",
       "</table>\n"
      ],
      "text/latex": [
       "\\begin{tabular}{r|lll}\n",
       " cateto1 & cateto2 & hipotenusa\\\\\n",
       "\\hline\n",
       "\t 10       &  8       & 12.80625\\\\\n",
       "\t 11       &  9       & 14.21267\\\\\n",
       "\t 12       & 10       & 15.62050\\\\\n",
       "\\end{tabular}\n"
      ],
      "text/markdown": [
       "\n",
       "| cateto1 | cateto2 | hipotenusa |\n",
       "|---|---|---|\n",
       "| 10       |  8       | 12.80625 |\n",
       "| 11       |  9       | 14.21267 |\n",
       "| 12       | 10       | 15.62050 |\n",
       "\n"
      ],
      "text/plain": [
       "  cateto1 cateto2 hipotenusa\n",
       "1 10       8      12.80625  \n",
       "2 11       9      14.21267  \n",
       "3 12      10      15.62050  "
      ]
     },
     "metadata": {},
     "output_type": "display_data"
    }
   ],
   "source": [
    "# Podemos organizarlo de una forma mas visual con los data.frame\n",
    "\n",
    "hipotenusa<-function(cateto1, cateto2){\n",
    "    h<-sqrt(cateto1^2+cateto2^2)\n",
    "    data.frame(cateto1=cateto1,cateto2=cateto2,hipotenusa=h)\n",
    "}\n",
    "\n",
    "hipotenusa(10:12,8:10)"
   ]
  },
  {
   "cell_type": "code",
   "execution_count": 30,
   "metadata": {},
   "outputs": [
    {
     "data": {
      "text/html": [
       "TRUE"
      ],
      "text/latex": [
       "TRUE"
      ],
      "text/markdown": [
       "TRUE"
      ],
      "text/plain": [
       "[1] TRUE"
      ]
     },
     "metadata": {},
     "output_type": "display_data"
    },
    {
     "data": {
      "text/html": [
       "FALSE"
      ],
      "text/latex": [
       "FALSE"
      ],
      "text/markdown": [
       "FALSE"
      ],
      "text/plain": [
       "[1] FALSE"
      ]
     },
     "metadata": {},
     "output_type": "display_data"
    },
    {
     "data": {
      "text/html": [
       "TRUE"
      ],
      "text/latex": [
       "TRUE"
      ],
      "text/markdown": [
       "TRUE"
      ],
      "text/plain": [
       "[1] TRUE"
      ]
     },
     "metadata": {},
     "output_type": "display_data"
    },
    {
     "data": {
      "text/html": [
       "FALSE"
      ],
      "text/latex": [
       "FALSE"
      ],
      "text/markdown": [
       "FALSE"
      ],
      "text/plain": [
       "[1] FALSE"
      ]
     },
     "metadata": {},
     "output_type": "display_data"
    }
   ],
   "source": [
    "# Para validarsi es un caacter o un numero lo podemos hacer con is.character(parametro)\n",
    "validarCaracter<-function(caracter){\n",
    "    if(is.character(caracter)){\n",
    "        TRUE\n",
    "    }else{\n",
    "        FALSE\n",
    "    }\n",
    "}\n",
    "\n",
    "validarCaracter(\"hola\")\n",
    "\n",
    "validarCaracter(2)\n",
    "\n",
    "# al colocar las \"\" en (\"parametro\") lo convertimos en cadena\n",
    "\n",
    "validarCaracter(\"2\")\n",
    "\n",
    "# Para la funcion TRUE o FALSE como es un dato boolean lo permite\n",
    "\n",
    "# Si ingresamos una cadena sin las \"\" nos generara un error\n",
    "validarCaracter(TRUE)"
   ]
  },
  {
   "cell_type": "code",
   "execution_count": 22,
   "metadata": {},
   "outputs": [
    {
     "name": "stdout",
     "output_type": "stream",
     "text": [
      "La UPTC tiene 20 carreras ."
     ]
    },
    {
     "data": {
      "text/html": [
       "20"
      ],
      "text/latex": [
       "20"
      ],
      "text/markdown": [
       "20"
      ],
      "text/plain": [
       "[1] 20"
      ]
     },
     "metadata": {},
     "output_type": "display_data"
    },
    {
     "name": "stdout",
     "output_type": "stream",
     "text": [
      "La UPTC tiene 20 carreras \b."
     ]
    },
    {
     "data": {
      "text/html": [
       "20"
      ],
      "text/latex": [
       "20"
      ],
      "text/markdown": [
       "20"
      ],
      "text/plain": [
       "[1] 20"
      ]
     },
     "metadata": {},
     "output_type": "display_data"
    },
    {
     "name": "stdout",
     "output_type": "stream",
     "text": [
      "La UPTC tiene\n",
      " 20 carreras \b."
     ]
    }
   ],
   "source": [
    "# función cat()\n",
    "x<-20\n",
    "# nos sirve es para concatenar texto\n",
    "cat(\"La UPTC tiene\", x, \"carreras\", \".\")\n",
    "\n",
    "x\n",
    "#\\b quita el último espacio\n",
    "\n",
    "cat(\"La UPTC tiene\", x, \"carreras\", \"\\b.\")\n",
    "\n",
    "x\n",
    "#\\n salta la linea\n",
    "\n",
    "cat(\"La UPTC tiene\\n\", x, \"carreras\", \"\\b.\")\n",
    "\n"
   ]
  },
  {
   "cell_type": "code",
   "execution_count": 38,
   "metadata": {},
   "outputs": [
    {
     "name": "stdout",
     "output_type": "stream",
     "text": [
      "El numero 5 es mayor que 2"
     ]
    },
    {
     "data": {
      "text/html": [
       "'----'"
      ],
      "text/latex": [
       "'----'"
      ],
      "text/markdown": [
       "'----'"
      ],
      "text/plain": [
       "[1] \"----\""
      ]
     },
     "metadata": {},
     "output_type": "display_data"
    },
    {
     "name": "stdout",
     "output_type": "stream",
     "text": [
      "El numero 5 es igual que 5"
     ]
    },
    {
     "data": {
      "text/html": [
       "'----'"
      ],
      "text/latex": [
       "'----'"
      ],
      "text/markdown": [
       "'----'"
      ],
      "text/plain": [
       "[1] \"----\""
      ]
     },
     "metadata": {},
     "output_type": "display_data"
    },
    {
     "name": "stdout",
     "output_type": "stream",
     "text": [
      "El numero 10 es mayor que 5"
     ]
    }
   ],
   "source": [
    "# Determinar cual es el mayor y el menor\n",
    "# num 1 es un acronimo de numero 1\n",
    "mayor<-function(num1,num2){\n",
    "    if(num1>num2){\n",
    "        cat(\"El numero\",num1,\"es mayor que\",num2) \n",
    "    }else if(num1==num2){\n",
    "        cat(\"El numero\",num1,\"es igual que\",num2) \n",
    "    }else{\n",
    "        cat(\"El numero\",num2,\"es mayor que\",num1) \n",
    "\n",
    "    }\n",
    "    \n",
    "}\n",
    "# x es para definir un salto de linea y ver mejor los datos\n",
    "\n",
    "x<-\"----\"\n",
    "\n",
    "mayor(5,2)\n",
    "\n",
    "x\n",
    "\n",
    "mayor(5,5)\n",
    "\n",
    "x\n",
    "\n",
    "mayor(5,10)"
   ]
  },
  {
   "cell_type": "code",
   "execution_count": 46,
   "metadata": {},
   "outputs": [
    {
     "data": {
      "text/html": [
       "0"
      ],
      "text/latex": [
       "0"
      ],
      "text/markdown": [
       "0"
      ],
      "text/plain": [
       "[1] 0"
      ]
     },
     "metadata": {},
     "output_type": "display_data"
    },
    {
     "data": {
      "text/html": [
       "'---'"
      ],
      "text/latex": [
       "'---'"
      ],
      "text/markdown": [
       "'---'"
      ],
      "text/plain": [
       "[1] \"---\""
      ]
     },
     "metadata": {},
     "output_type": "display_data"
    },
    {
     "data": {
      "text/html": [
       "3"
      ],
      "text/latex": [
       "3"
      ],
      "text/markdown": [
       "3"
      ],
      "text/plain": [
       "[1] 3"
      ]
     },
     "metadata": {},
     "output_type": "display_data"
    },
    {
     "data": {
      "text/html": [
       "'---'"
      ],
      "text/latex": [
       "'---'"
      ],
      "text/markdown": [
       "'---'"
      ],
      "text/plain": [
       "[1] \"---\""
      ]
     },
     "metadata": {},
     "output_type": "display_data"
    },
    {
     "data": {
      "text/html": [
       "34"
      ],
      "text/latex": [
       "34"
      ],
      "text/markdown": [
       "34"
      ],
      "text/plain": [
       "[1] 34"
      ]
     },
     "metadata": {},
     "output_type": "display_data"
    }
   ],
   "source": [
    "# para una fibonacci\n",
    "\n",
    "fibonacci <- function(n) {  \n",
    "  if (n == 1) {    \n",
    "    0\n",
    "  }\n",
    "  else if(n == 2) {\n",
    "    1\n",
    "  }\n",
    "  else if(n > 2) {\n",
    "    fibonacci(n - 1) + fibonacci(n - 2)\n",
    "  }\n",
    "  \n",
    "}\n",
    "    \n",
    "# x es para definir un salto de linea y ver mejor los datos\n",
    "x<-\"---\"  \n",
    "\n",
    "# serie de fibonacci  \n",
    "# 0, 1, 1, 2, 3, 5, 8, 13, 21, 34, 55, 89, 144, 233, 377\n",
    "    \n",
    "fibonacci(1)\n",
    "\n",
    "x\n",
    "\n",
    "fibonacci(5)\n",
    "\n",
    "x\n",
    "    \n",
    "fibonacci(10)\n"
   ]
  }
 ],
 "metadata": {
  "kernelspec": {
   "display_name": "R",
   "language": "R",
   "name": "ir"
  },
  "language_info": {
   "codemirror_mode": "r",
   "file_extension": ".r",
   "mimetype": "text/x-r-source",
   "name": "R",
   "pygments_lexer": "r",
   "version": "3.6.1"
  }
 },
 "nbformat": 4,
 "nbformat_minor": 2
}
