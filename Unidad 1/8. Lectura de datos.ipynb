{
 "cells": [
  {
   "cell_type": "markdown",
   "metadata": {},
   "source": [
    "# Lectura de datos"
   ]
  },
  {
   "cell_type": "code",
   "execution_count": 25,
   "metadata": {},
   "outputs": [
    {
     "name": "stderr",
     "output_type": "stream",
     "text": [
      "Warning message in read.table(file = \"read.txt\", sep = \"\\t\"):\n",
      "\"incomplete final line found by readTableHeader on 'read.txt'\""
     ]
    },
    {
     "data": {
      "text/html": [
       "<table>\n",
       "<thead><tr><th scope=col>V1</th></tr></thead>\n",
       "<tbody>\n",
       "\t<tr><td>Curso de estadistica basica en R  </td></tr>\n",
       "\t<tr><td>Curso de estadistica basica en R 2</td></tr>\n",
       "\t<tr><td>Curso de estadistica basica en R 3</td></tr>\n",
       "</tbody>\n",
       "</table>\n"
      ],
      "text/latex": [
       "\\begin{tabular}{r|l}\n",
       " V1\\\\\n",
       "\\hline\n",
       "\t Curso de estadistica basica en R  \\\\\n",
       "\t Curso de estadistica basica en R 2\\\\\n",
       "\t Curso de estadistica basica en R 3\\\\\n",
       "\\end{tabular}\n"
      ],
      "text/markdown": [
       "\n",
       "| V1 |\n",
       "|---|\n",
       "| Curso de estadistica basica en R   |\n",
       "| Curso de estadistica basica en R 2 |\n",
       "| Curso de estadistica basica en R 3 |\n",
       "\n"
      ],
      "text/plain": [
       "  V1                                \n",
       "1 Curso de estadistica basica en R  \n",
       "2 Curso de estadistica basica en R 2\n",
       "3 Curso de estadistica basica en R 3"
      ]
     },
     "metadata": {},
     "output_type": "display_data"
    }
   ],
   "source": [
    "datos <- read.table(file = 'read.txt', sep = '\\t')\n",
    "\n",
    "datos"
   ]
  },
  {
   "cell_type": "code",
   "execution_count": 35,
   "metadata": {},
   "outputs": [
    {
     "data": {
      "text/html": [
       "<table>\n",
       "<thead><tr><th scope=col>V1</th><th scope=col>V2</th></tr></thead>\n",
       "<tbody>\n",
       "\t<tr><td>x</td><td>y</td></tr>\n",
       "\t<tr><td>2</td><td>3</td></tr>\n",
       "\t<tr><td>3</td><td>4</td></tr>\n",
       "\t<tr><td>4</td><td>4</td></tr>\n",
       "\t<tr><td>5</td><td>3</td></tr>\n",
       "\t<tr><td>6</td><td>4</td></tr>\n",
       "\t<tr><td>7</td><td>3</td></tr>\n",
       "\t<tr><td>8</td><td>2</td></tr>\n",
       "\t<tr><td>9</td><td>8</td></tr>\n",
       "</tbody>\n",
       "</table>\n"
      ],
      "text/latex": [
       "\\begin{tabular}{r|ll}\n",
       " V1 & V2\\\\\n",
       "\\hline\n",
       "\t x & y\\\\\n",
       "\t 2 & 3\\\\\n",
       "\t 3 & 4\\\\\n",
       "\t 4 & 4\\\\\n",
       "\t 5 & 3\\\\\n",
       "\t 6 & 4\\\\\n",
       "\t 7 & 3\\\\\n",
       "\t 8 & 2\\\\\n",
       "\t 9 & 8\\\\\n",
       "\\end{tabular}\n"
      ],
      "text/markdown": [
       "\n",
       "| V1 | V2 |\n",
       "|---|---|\n",
       "| x | y |\n",
       "| 2 | 3 |\n",
       "| 3 | 4 |\n",
       "| 4 | 4 |\n",
       "| 5 | 3 |\n",
       "| 6 | 4 |\n",
       "| 7 | 3 |\n",
       "| 8 | 2 |\n",
       "| 9 | 8 |\n",
       "\n"
      ],
      "text/plain": [
       "  V1 V2\n",
       "1 x  y \n",
       "2 2  3 \n",
       "3 3  4 \n",
       "4 4  4 \n",
       "5 5  3 \n",
       "6 6  4 \n",
       "7 7  3 \n",
       "8 8  2 \n",
       "9 9  8 "
      ]
     },
     "metadata": {},
     "output_type": "display_data"
    }
   ],
   "source": [
    "excel <- read.table(file = 'datos.csv', sep = \";\")\n",
    "\n",
    "excel"
   ]
  },
  {
   "cell_type": "code",
   "execution_count": 48,
   "metadata": {},
   "outputs": [
    {
     "ename": "ERROR",
     "evalue": "Error in xy.coords(x, y, xlabel, ylabel, log): 'x' and 'y' lengths differ\n",
     "output_type": "error",
     "traceback": [
      "Error in xy.coords(x, y, xlabel, ylabel, log): 'x' and 'y' lengths differ\nTraceback:\n",
      "1. plot(excel[1:1], excel[2:2])",
      "2. plot.data.frame(excel[1:1], excel[2:2])",
      "3. plot(x1, ...)",
      "4. plot.factor(x1, ...)",
      "5. NextMethod(\"plot\")",
      "6. plot.default(x1, ...)",
      "7. xy.coords(x, y, xlabel, ylabel, log)",
      "8. stop(\"'x' and 'y' lengths differ\")"
     ]
    }
   ],
   "source": []
  },
  {
   "cell_type": "code",
   "execution_count": 52,
   "metadata": {},
   "outputs": [
    {
     "data": {
      "text/html": [
       "<ol class=list-inline>\n",
       "\t<li>y</li>\n",
       "\t<li>3</li>\n",
       "\t<li>4</li>\n",
       "\t<li>4</li>\n",
       "\t<li>3</li>\n",
       "\t<li>4</li>\n",
       "\t<li>3</li>\n",
       "\t<li>2</li>\n",
       "\t<li>8</li>\n",
       "</ol>\n",
       "\n",
       "<details>\n",
       "\t<summary style=display:list-item;cursor:pointer>\n",
       "\t\t<strong>Levels</strong>:\n",
       "\t</summary>\n",
       "\t<ol class=list-inline>\n",
       "\t\t<li>'2'</li>\n",
       "\t\t<li>'3'</li>\n",
       "\t\t<li>'4'</li>\n",
       "\t\t<li>'8'</li>\n",
       "\t\t<li>'y'</li>\n",
       "\t</ol>\n",
       "</details>"
      ],
      "text/latex": [
       "\\begin{enumerate*}\n",
       "\\item y\n",
       "\\item 3\n",
       "\\item 4\n",
       "\\item 4\n",
       "\\item 3\n",
       "\\item 4\n",
       "\\item 3\n",
       "\\item 2\n",
       "\\item 8\n",
       "\\end{enumerate*}\n",
       "\n",
       "\\emph{Levels}: \\begin{enumerate*}\n",
       "\\item '2'\n",
       "\\item '3'\n",
       "\\item '4'\n",
       "\\item '8'\n",
       "\\item 'y'\n",
       "\\end{enumerate*}\n"
      ],
      "text/markdown": [
       "1. y\n",
       "2. 3\n",
       "3. 4\n",
       "4. 4\n",
       "5. 3\n",
       "6. 4\n",
       "7. 3\n",
       "8. 2\n",
       "9. 8\n",
       "\n",
       "\n",
       "\n",
       "**Levels**: 1. '2'\n",
       "2. '3'\n",
       "3. '4'\n",
       "4. '8'\n",
       "5. 'y'\n",
       "\n",
       "\n"
      ],
      "text/plain": [
       "[1] y 3 4 4 3 4 3 2 8\n",
       "Levels: 2 3 4 8 y"
      ]
     },
     "metadata": {},
     "output_type": "display_data"
    }
   ],
   "source": [
    "excel[,2]"
   ]
  },
  {
   "cell_type": "code",
   "execution_count": null,
   "metadata": {},
   "outputs": [],
   "source": [
    "plot(excel[1:1],excel[2:2])"
   ]
  }
 ],
 "metadata": {
  "kernelspec": {
   "display_name": "R",
   "language": "R",
   "name": "ir"
  },
  "language_info": {
   "codemirror_mode": "r",
   "file_extension": ".r",
   "mimetype": "text/x-r-source",
   "name": "R",
   "pygments_lexer": "r",
   "version": "3.6.1"
  }
 },
 "nbformat": 4,
 "nbformat_minor": 2
}
