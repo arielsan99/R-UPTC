{
 "cells": [
  {
   "cell_type": "markdown",
   "metadata": {},
   "source": [
    "# Introduccion al tratamiento de datos en R"
   ]
  },
  {
   "cell_type": "code",
   "execution_count": 1,
   "metadata": {},
   "outputs": [
    {
     "data": {
      "text/html": [
       "<ol class=list-inline>\n",
       "\t<li>3</li>\n",
       "\t<li>5</li>\n",
       "\t<li>6</li>\n",
       "\t<li>3</li>\n",
       "\t<li>45</li>\n",
       "\t<li>64</li>\n",
       "</ol>\n"
      ],
      "text/latex": [
       "\\begin{enumerate*}\n",
       "\\item 3\n",
       "\\item 5\n",
       "\\item 6\n",
       "\\item 3\n",
       "\\item 45\n",
       "\\item 64\n",
       "\\end{enumerate*}\n"
      ],
      "text/markdown": [
       "1. 3\n",
       "2. 5\n",
       "3. 6\n",
       "4. 3\n",
       "5. 45\n",
       "6. 64\n",
       "\n",
       "\n"
      ],
      "text/plain": [
       "[1]  3  5  6  3 45 64"
      ]
     },
     "metadata": {},
     "output_type": "display_data"
    }
   ],
   "source": [
    "datos = c(3,5,6,3,45,64)\n",
    "datos"
   ]
  },
  {
   "cell_type": "markdown",
   "metadata": {},
   "source": [
    "## Para sacar la media lo podemos hacer asi\n",
    "\n",
    "mediante la funcion mean(\"argumento o arreglo\")"
   ]
  },
  {
   "cell_type": "code",
   "execution_count": 2,
   "metadata": {},
   "outputs": [
    {
     "data": {
      "text/html": [
       "21"
      ],
      "text/latex": [
       "21"
      ],
      "text/markdown": [
       "21"
      ],
      "text/plain": [
       "[1] 21"
      ]
     },
     "metadata": {},
     "output_type": "display_data"
    }
   ],
   "source": [
    "mean(datos)"
   ]
  },
  {
   "cell_type": "markdown",
   "metadata": {},
   "source": [
    "## Para sacar la mediana lo podemos hacer asi\n",
    "\n",
    "mediante la funcion median(\"argumento o arreglo\")"
   ]
  },
  {
   "cell_type": "code",
   "execution_count": 15,
   "metadata": {},
   "outputs": [
    {
     "data": {
      "text/html": [
       "5.5"
      ],
      "text/latex": [
       "5.5"
      ],
      "text/markdown": [
       "5.5"
      ],
      "text/plain": [
       "[1] 5.5"
      ]
     },
     "metadata": {},
     "output_type": "display_data"
    }
   ],
   "source": [
    "median(datos)"
   ]
  },
  {
   "cell_type": "markdown",
   "metadata": {},
   "source": [
    "## Para sacar la varianza lo podemos hacer asi\n",
    "\n",
    "mediante la funcion var(\"argumento o arreglo\")"
   ]
  },
  {
   "cell_type": "code",
   "execution_count": 18,
   "metadata": {},
   "outputs": [
    {
     "data": {
      "text/html": [
       "710.8"
      ],
      "text/latex": [
       "710.8"
      ],
      "text/markdown": [
       "710.8"
      ],
      "text/plain": [
       "[1] 710.8"
      ]
     },
     "metadata": {},
     "output_type": "display_data"
    }
   ],
   "source": [
    "var(datos)"
   ]
  },
  {
   "cell_type": "markdown",
   "metadata": {},
   "source": [
    "## Para saber la longitud de array o vector lo podemos hacer asi\n",
    "\n",
    "mediante la funcion length(\"argumento o arreglo\")"
   ]
  },
  {
   "cell_type": "code",
   "execution_count": 20,
   "metadata": {},
   "outputs": [
    {
     "data": {
      "text/html": [
       "6"
      ],
      "text/latex": [
       "6"
      ],
      "text/markdown": [
       "6"
      ],
      "text/plain": [
       "[1] 6"
      ]
     },
     "metadata": {},
     "output_type": "display_data"
    }
   ],
   "source": [
    "num <- length(datos)\n",
    "num"
   ]
  },
  {
   "cell_type": "code",
   "execution_count": 24,
   "metadata": {},
   "outputs": [
    {
     "data": {
      "text/html": [
       "2"
      ],
      "text/latex": [
       "2"
      ],
      "text/markdown": [
       "2"
      ],
      "text/plain": [
       "[1] 2"
      ]
     },
     "metadata": {},
     "output_type": "display_data"
    }
   ],
   "source": [
    "# datos = c(3,5,6,3,45,64)\n",
    "\n",
    "# Los datos mayores a 20 son 45 y 64\n",
    "sum(datos>20)   "
   ]
  },
  {
   "cell_type": "code",
   "execution_count": 25,
   "metadata": {},
   "outputs": [
    {
     "data": {
      "text/html": [
       "64"
      ],
      "text/latex": [
       "64"
      ],
      "text/markdown": [
       "64"
      ],
      "text/plain": [
       "[1] 64"
      ]
     },
     "metadata": {},
     "output_type": "display_data"
    }
   ],
   "source": [
    "# Para tener el valor mas grande de un vector\n",
    "# datos = c(3,5,6,3,45,64)\n",
    "max(datos)"
   ]
  },
  {
   "cell_type": "code",
   "execution_count": 27,
   "metadata": {},
   "outputs": [
    {
     "data": {
      "text/html": [
       "3"
      ],
      "text/latex": [
       "3"
      ],
      "text/markdown": [
       "3"
      ],
      "text/plain": [
       "[1] 3"
      ]
     },
     "metadata": {},
     "output_type": "display_data"
    }
   ],
   "source": [
    "# Para tener el valor mas grande de un vector\n",
    "# datos = c(3,5,6,3,45,64)\n",
    "min(datos)"
   ]
  },
  {
   "cell_type": "code",
   "execution_count": 30,
   "metadata": {},
   "outputs": [
    {
     "data": {
      "text/html": [
       "<ol class=list-inline>\n",
       "\t<li>1.73205080756888</li>\n",
       "\t<li>2.23606797749979</li>\n",
       "\t<li>2.44948974278318</li>\n",
       "\t<li>1.73205080756888</li>\n",
       "\t<li>6.70820393249937</li>\n",
       "\t<li>8</li>\n",
       "</ol>\n"
      ],
      "text/latex": [
       "\\begin{enumerate*}\n",
       "\\item 1.73205080756888\n",
       "\\item 2.23606797749979\n",
       "\\item 2.44948974278318\n",
       "\\item 1.73205080756888\n",
       "\\item 6.70820393249937\n",
       "\\item 8\n",
       "\\end{enumerate*}\n"
      ],
      "text/markdown": [
       "1. 1.73205080756888\n",
       "2. 2.23606797749979\n",
       "3. 2.44948974278318\n",
       "4. 1.73205080756888\n",
       "5. 6.70820393249937\n",
       "6. 8\n",
       "\n",
       "\n"
      ],
      "text/plain": [
       "[1] 1.732051 2.236068 2.449490 1.732051 6.708204 8.000000"
      ]
     },
     "metadata": {},
     "output_type": "display_data"
    }
   ],
   "source": [
    "#Para sacar la raiz cuadrada de cada valor del arreglo\n",
    "sqrt(datos)"
   ]
  },
  {
   "cell_type": "code",
   "execution_count": 38,
   "metadata": {},
   "outputs": [
    {
     "data": {
      "text/html": [
       "21"
      ],
      "text/latex": [
       "21"
      ],
      "text/markdown": [
       "21"
      ],
      "text/plain": [
       "[1] 21"
      ]
     },
     "metadata": {},
     "output_type": "display_data"
    },
    {
     "data": {
      "text/html": [
       "4.58257569495584"
      ],
      "text/latex": [
       "4.58257569495584"
      ],
      "text/markdown": [
       "4.58257569495584"
      ],
      "text/plain": [
       "[1] 4.582576"
      ]
     },
     "metadata": {},
     "output_type": "display_data"
    },
    {
     "name": "stdout",
     "output_type": "stream",
     "text": [
      "[1] \"------\"\n"
     ]
    },
    {
     "data": {
      "text/html": [
       "4.58257569495584"
      ],
      "text/latex": [
       "4.58257569495584"
      ],
      "text/markdown": [
       "4.58257569495584"
      ],
      "text/plain": [
       "[1] 4.582576"
      ]
     },
     "metadata": {},
     "output_type": "display_data"
    }
   ],
   "source": [
    "#Si queremos sacar la raiz cuadrada de la media de los datos lo podemos hacer asi\n",
    "\n",
    "media <- mean(datos)\n",
    "media\n",
    "sqrt(media)\n",
    "\n",
    "#Tambien lo podemos simplificar como\n",
    "\n",
    "print(\"------\")\n",
    "sqrt(mean(datos))"
   ]
  },
  {
   "cell_type": "code",
   "execution_count": 5,
   "metadata": {},
   "outputs": [
    {
     "data": {
      "text/html": [
       "<ol class=list-inline>\n",
       "\t<li>5</li>\n",
       "\t<li>45</li>\n",
       "\t<li>6</li>\n",
       "\t<li>3</li>\n",
       "\t<li>3</li>\n",
       "\t<li>64</li>\n",
       "</ol>\n"
      ],
      "text/latex": [
       "\\begin{enumerate*}\n",
       "\\item 5\n",
       "\\item 45\n",
       "\\item 6\n",
       "\\item 3\n",
       "\\item 3\n",
       "\\item 64\n",
       "\\end{enumerate*}\n"
      ],
      "text/markdown": [
       "1. 5\n",
       "2. 45\n",
       "3. 6\n",
       "4. 3\n",
       "5. 3\n",
       "6. 64\n",
       "\n",
       "\n"
      ],
      "text/plain": [
       "[1]  5 45  6  3  3 64"
      ]
     },
     "metadata": {},
     "output_type": "display_data"
    },
    {
     "data": {
      "text/html": [
       "<ol class=list-inline>\n",
       "\t<li>11</li>\n",
       "\t<li>5</li>\n",
       "\t<li>9</li>\n",
       "\t<li>20</li>\n",
       "\t<li>13</li>\n",
       "\t<li>7</li>\n",
       "\t<li>4</li>\n",
       "\t<li>10</li>\n",
       "\t<li>16</li>\n",
       "\t<li>8</li>\n",
       "\t<li>14</li>\n",
       "\t<li>18</li>\n",
       "\t<li>17</li>\n",
       "\t<li>19</li>\n",
       "\t<li>2</li>\n",
       "\t<li>6</li>\n",
       "\t<li>21</li>\n",
       "\t<li>1</li>\n",
       "\t<li>3</li>\n",
       "\t<li>15</li>\n",
       "\t<li>12</li>\n",
       "</ol>\n"
      ],
      "text/latex": [
       "\\begin{enumerate*}\n",
       "\\item 11\n",
       "\\item 5\n",
       "\\item 9\n",
       "\\item 20\n",
       "\\item 13\n",
       "\\item 7\n",
       "\\item 4\n",
       "\\item 10\n",
       "\\item 16\n",
       "\\item 8\n",
       "\\item 14\n",
       "\\item 18\n",
       "\\item 17\n",
       "\\item 19\n",
       "\\item 2\n",
       "\\item 6\n",
       "\\item 21\n",
       "\\item 1\n",
       "\\item 3\n",
       "\\item 15\n",
       "\\item 12\n",
       "\\end{enumerate*}\n"
      ],
      "text/markdown": [
       "1. 11\n",
       "2. 5\n",
       "3. 9\n",
       "4. 20\n",
       "5. 13\n",
       "6. 7\n",
       "7. 4\n",
       "8. 10\n",
       "9. 16\n",
       "10. 8\n",
       "11. 14\n",
       "12. 18\n",
       "13. 17\n",
       "14. 19\n",
       "15. 2\n",
       "16. 6\n",
       "17. 21\n",
       "18. 1\n",
       "19. 3\n",
       "20. 15\n",
       "21. 12\n",
       "\n",
       "\n"
      ],
      "text/plain": [
       " [1] 11  5  9 20 13  7  4 10 16  8 14 18 17 19  2  6 21  1  3 15 12"
      ]
     },
     "metadata": {},
     "output_type": "display_data"
    }
   ],
   "source": [
    "datos = c(3,5,6,3,45,64)\n",
    "\n",
    "# Con la funcion sample(parametro) lo que podemos hacer es un randomico\n",
    "\n",
    "sample(datos)\n",
    "\n",
    "# La media nos dio 21 con mean(datos)\n",
    "sample(mean(datos))"
   ]
  }
 ],
 "metadata": {
  "kernelspec": {
   "display_name": "R",
   "language": "R",
   "name": "ir"
  },
  "language_info": {
   "codemirror_mode": "r",
   "file_extension": ".r",
   "mimetype": "text/x-r-source",
   "name": "R",
   "pygments_lexer": "r",
   "version": "3.6.1"
  }
 },
 "nbformat": 4,
 "nbformat_minor": 2
}
