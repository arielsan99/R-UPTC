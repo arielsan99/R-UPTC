{
 "cells": [
  {
   "cell_type": "markdown",
   "metadata": {},
   "source": [
    "# Introducción para usar Jupyter"
   ]
  },
  {
   "cell_type": "markdown",
   "metadata": {},
   "source": [
    "### Para ejecutar una celda, haremos \n",
    "## Control + Enter \n",
    "### o si queremos pasar automáticamente a la siguiente después de ejecutarla, podemos hacer Shift + Enter. Para saber cuándo una celda se ha ejecutado, está en ello o ya ha terminado, podemos mirar la cabecera de la celda:\n",
    "\n",
    "#### Si solamente aparece In [ ], quiere decir que aún no se ha ejecutado.\n",
    "#### Si lo que tenemos es In [*], entonces está en proceso de ejecución.\n",
    "\n",
    "#### Si aparece un número entre los corchetes, ya ha terminado de ejecutar. La única pega es que podemos haber hecho cambios posteriores a su ejecución, y esto no se indica de ninguna manera.\n",
    "\n",
    "#### No modicar las librerias ya que se vera afectado la ejecucion del proyecto\n",
    "\n",
    "#### Ejecutar las lineas en orden ya que sino el programa no funcinara, Recuerde que puede cambiar los valores para hacer sus pruebas pero no debe cambiar las funciones del sistema ya que estas estan predefinidas"
   ]
  },
  {
   "cell_type": "markdown",
   "metadata": {},
   "source": [
    "# Para vincular latex lo haremos asi\n",
    "\n",
    "$Ejemplo \\ de\\ \\LaTeX$   ----->  $X^2$\n",
    "\n",
    "Ejemplo sin LaTeX  ------>  X^2"
   ]
  },
  {
   "cell_type": "code",
   "execution_count": 1,
   "metadata": {},
   "outputs": [
    {
     "data": {
      "text/html": [
       "2"
      ],
      "text/latex": [
       "2"
      ],
      "text/markdown": [
       "2"
      ],
      "text/plain": [
       "[1] 2"
      ]
     },
     "metadata": {},
     "output_type": "display_data"
    }
   ],
   "source": [
    "#CORRER PRUEBA\n",
    "#Codigo en R\n",
    "\n",
    "x <- 2\n",
    "x\n"
   ]
  },
  {
   "cell_type": "code",
   "execution_count": null,
   "metadata": {},
   "outputs": [],
   "source": []
  }
 ],
 "metadata": {
  "kernelspec": {
   "display_name": "R",
   "language": "R",
   "name": "ir"
  },
  "language_info": {
   "codemirror_mode": "r",
   "file_extension": ".r",
   "mimetype": "text/x-r-source",
   "name": "R",
   "pygments_lexer": "r",
   "version": "3.6.1"
  }
 },
 "nbformat": 4,
 "nbformat_minor": 2
}
